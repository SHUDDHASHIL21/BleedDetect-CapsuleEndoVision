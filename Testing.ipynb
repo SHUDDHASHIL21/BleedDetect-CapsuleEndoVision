{
 "cells": [
  {
   "cell_type": "markdown",
   "metadata": {
    "id": "1dj3WSUzRRQw"
   },
   "source": [
    "## Install ultralytics"
   ]
  },
  {
   "cell_type": "code",
   "execution_count": null,
   "metadata": {
    "id": "ox54lv66RtvV"
   },
   "outputs": [],
   "source": [
    "! pip install ultralytics"
   ]
  },
  {
   "cell_type": "markdown",
   "metadata": {},
   "source": [
    "## Start testing the data with the predict function of yolov8, with the best trained weight."
   ]
  },
  {
   "cell_type": "code",
   "execution_count": null,
   "metadata": {
    "id": "DJs5BzKYS-ag"
   },
   "outputs": [],
   "source": [
    "#Testing with the image path - /content/test_data_1/images , Saved model path - /content/drive/MyDrive/BLEEDGEN/data/best.pt --->\n",
    "\n",
    "import locale\n",
    "locale.getpreferredencoding = lambda: \"UTF-8\"\n",
    "\n",
    "from ultralytics import YOLO\n",
    "\n",
    "model = YOLO()\n",
    "\n",
    "!yolo task=detect mode=predict model=\"/content/drive/MyDrive/BLEEDGEN/data/best.pt\" conf=0.25 source=\"/content/test_data_1/images\" 2>&1 | tee TrainerLog.txt"
   ]
  },
  {
   "cell_type": "code",
   "execution_count": null,
   "metadata": {
    "id": "RZt0cW8nBckr"
   },
   "outputs": [],
   "source": [
    "result_path = \"/content/drive/MyDrive/BLEEDGEN/data/result_200\"\n",
    "\n",
    "with open(\"/content/TrainerLog.txt\", \"r\" , encoding=\"utf8\") as f:\n",
    "    op = f.readlines()\n",
    "\n",
    "  nb = 0\n",
    "  b = 0\n",
    "  cnb = 0\n",
    "  icb = 0\n",
    "  for i in range(3 , len(op)):\n",
    "    x = op[i]\n",
    "    if \"@NB@\" in x:\n",
    "      nb += 1\n",
    "      if \"(no detections)\" in x:\n",
    "        cnb += 1\n",
    "    else:\n",
    "      b += 1\n",
    "      if \"(no detections)\" in x:\n",
    "        icb += 1\n",
    "        \n",
    "with open(result_path, 'a') as file:\n",
    "    file.write(str((b-icb)/b*100) + \",\" + str((cnb)/nb*100) + \",\" + str(((b-icb)+cnb)/(b+nb)*100))\n",
    "    file.write(\"\\n\\n\")"
   ]
  }
 ],
 "metadata": {
  "accelerator": "GPU",
  "colab": {
   "gpuType": "T4",
   "provenance": []
  },
  "kernelspec": {
   "display_name": "Python 3",
   "language": "python",
   "name": "python3"
  },
  "language_info": {
   "codemirror_mode": {
    "name": "ipython",
    "version": 3
   },
   "file_extension": ".py",
   "mimetype": "text/x-python",
   "name": "python",
   "nbconvert_exporter": "python",
   "pygments_lexer": "ipython3",
   "version": "3.8.8"
  }
 },
 "nbformat": 4,
 "nbformat_minor": 1
}
