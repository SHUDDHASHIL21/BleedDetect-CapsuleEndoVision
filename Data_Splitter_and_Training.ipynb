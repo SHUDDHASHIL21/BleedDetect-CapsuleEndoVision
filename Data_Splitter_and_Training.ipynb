{
 "cells": [
  {
   "cell_type": "markdown",
   "metadata": {},
   "source": [
    "## Install ultralytics for directly using yolov8"
   ]
  },
  {
   "cell_type": "code",
   "execution_count": null,
   "metadata": {
    "id": "JGQqon1pIeS2"
   },
   "outputs": [],
   "source": [
    "!pip install ultralytics"
   ]
  },
  {
   "cell_type": "markdown",
   "metadata": {},
   "source": [
    "## Sets up the directory structure for organizing a dataset, performs data splitting, and copies image and label files to their respective train, validation, and test directories.\n"
   ]
  },
  {
   "cell_type": "code",
   "execution_count": 23,
   "metadata": {
    "id": "8yTa16VcJwtV"
   },
   "outputs": [],
   "source": [
    "import shutil\n",
    "import os\n",
    "import random"
   ]
  },
  {
   "cell_type": "code",
   "execution_count": 24,
   "metadata": {
    "colab": {
     "base_uri": "https://localhost:8080/",
     "height": 36
    },
    "id": "P2TdzPB4KttL",
    "outputId": "9932cb26-f965-402c-8060-145765354e30"
   },
   "outputs": [
    {
     "data": {
      "application/vnd.google.colaboratory.intrinsic+json": {
       "type": "string"
      },
      "text/plain": [
       "'/content/data/data.yaml'"
      ]
     },
     "execution_count": 24,
     "metadata": {},
     "output_type": "execute_result"
    }
   ],
   "source": [
    "#path for training data(augmented data)\n",
    "\n",
    "if os.path.exists(\"/content/data\"):\n",
    "  shutil.rmtree(\"/content/data\")\n",
    "os.mkdir('/content/data')\n",
    "\n",
    "if os.path.exists(\"/content/Training 02/train/images-test\"):\n",
    "  shutil.rmtree(\"/content/Training 02/train/images-test\")\n",
    "\n",
    "if os.path.exists(\"/content/Training 02/train/labels-test\"):\n",
    "  shutil.rmtree(\"/content/Training 02/train/labels-test\")\n",
    "\n",
    "os.mkdir(\"/content/data/train/\")\n",
    "os.mkdir(\"/content/data/train/images/\")\n",
    "os.mkdir(\"/content/data/train/labels/\")\n",
    "os.mkdir(\"/content/data/valid/\")\n",
    "os.mkdir(\"/content/data/valid/images/\")\n",
    "os.mkdir(\"/content/data/valid/labels/\")\n",
    "os.mkdir(\"/content/data/test/\")\n",
    "os.mkdir(\"/content/data/test/images/\")\n",
    "os.mkdir(\"/content/data/test/labels/\")\n",
    "\n",
    "fils_imgs=os.listdir(\"/content/Training 02/train/images(ALL)\")\n",
    "fils_lbls=os.listdir(\"/content/Training 02/train/labels(ALL)\")\n",
    "splittest = 20\n",
    "splitval = 10\n",
    "testsize=int(splittest*len(fils_imgs)/100)\n",
    "valsize=int(splitval*len(fils_imgs)/100)\n",
    "test_nums=random.sample(range(0, (len(fils_imgs)-1)), testsize)\n",
    "val_nums = []\n",
    "count = 0\n",
    "while count<valsize:\n",
    "  temp=random.sample(range(0, (len(fils_imgs)-1)), 1)\n",
    "  if (temp not in test_nums) and (temp not in val_nums):\n",
    "    val_nums.append(temp[0])\n",
    "    count += 1\n",
    "\n",
    "for i in range(len(fils_imgs)):\n",
    "  dest_img=\"/content/data/train/images/\"\n",
    "  dest_lbl=\"/content/data/train/labels/\"\n",
    "\n",
    "  if i in test_nums:\n",
    "      dest_img=\"/content/data/test/images/\"\n",
    "      dest_lbl=\"/content/data/test/labels/\"\n",
    "\n",
    "  elif i in val_nums:\n",
    "      dest_img=\"/content/data/valid/images/\"\n",
    "      dest_lbl=\"/content/data/valid/labels/\"\n",
    "\n",
    "  shutil.copyfile(\"/content/Training 05/train/images(ALL)/\"+fils_imgs[i], dest_img+fils_imgs[i])\n",
    "  shutil.copyfile(\"/content/Training 05/train/labels(ALL)/\"+fils_imgs[i].split(\".png\")[0]+\".txt\", dest_lbl+fils_imgs[i].split(\".png\")[0]+\".txt\")\n",
    "\n",
    "\n",
    "shutil.copyfile(\"/content/drive/MyDrive/BLEEDGEN/data/data.yaml\", \"/content/data/data.yaml\" )"
   ]
  },
  {
   "cell_type": "markdown",
   "metadata": {},
   "source": [
    "## Training the yolov8 model on the custom made dataset"
   ]
  },
  {
   "cell_type": "code",
   "execution_count": null,
   "metadata": {
    "colab": {
     "base_uri": "https://localhost:8080/",
     "height": 1000
    },
    "id": "OVdJEec-Jd6F",
    "outputId": "f2214d75-45a1-444a-e369-bdfe99d9fe01"
   },
   "outputs": [],
   "source": [
    "import os\n",
    "import locale\n",
    "locale.getpreferredencoding = lambda: \"UTF-8\"\n",
    "from ultralytics import YOLO\n",
    "\n",
    "model = YOLO()\n",
    "\n",
    "save_dir = '/content/drive/MyDrive/BLEEDGEN/data/Weights'\n",
    "os.makedirs(save_dir, exist_ok=True)\n",
    "\n",
    "results = model.train(\n",
    "    data=\"/content/content/data/data.yaml\",\n",
    "    epochs=200,\n",
    "    project=save_dir,\n",
    "    save_period = 1\n",
    ")"
   ]
  }
 ],
 "metadata": {
  "accelerator": "GPU",
  "colab": {
   "provenance": []
  },
  "kernelspec": {
   "display_name": "Python 3",
   "language": "python",
   "name": "python3"
  },
  "language_info": {
   "codemirror_mode": {
    "name": "ipython",
    "version": 3
   },
   "file_extension": ".py",
   "mimetype": "text/x-python",
   "name": "python",
   "nbconvert_exporter": "python",
   "pygments_lexer": "ipython3",
   "version": "3.8.8"
  }
 },
 "nbformat": 4,
 "nbformat_minor": 1
}
